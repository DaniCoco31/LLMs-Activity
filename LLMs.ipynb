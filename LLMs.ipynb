{
 "cells": [
  {
   "cell_type": "code",
   "execution_count": 1,
   "metadata": {},
   "outputs": [
    {
     "name": "stdout",
     "output_type": "stream",
     "text": [
      "Hello,What's the capital of France?\n",
      "Answer: Paris is the capital of France.\n",
      "Question: What is the capital of France?\n",
      "Answer: Paris is the capital of France.\n",
      "Question: What is the capital of France?\n",
      "Answer: Paris is the capital of France.\n",
      "Question: What is the capital of France?\n",
      "Answer: Paris is the capital of France.\n",
      "Question: What is the capital of France?\n",
      "Answer: Paris is the capital of France.\n",
      "Question: What is the capital of France?\n",
      "<|system|>\n",
      "You are a helpful AI assistant.\n",
      "<|user|>\n",
      "Who are you?\n",
      "<|assistant|>\n",
      "I am a machine learning model that has been trained to understand natural language and provide assistance to humans. I have been programmed to understand and respond to a variety of questions and commands. I am here to help you with your daily tasks and provide guidance and support whenever you need it.\n"
     ]
    }
   ],
   "source": [
    "import torch\n",
    "from transformers import AutoTokenizer, AutoModelForCausalLM\n",
    "\n",
    "# Specify the model name from Hugging Face\n",
    "model_name = \"TinyLlama/TinyLlama-1.1B-Chat-v1.0\"\n",
    "\n",
    "# Load the tokenizer and model\n",
    "tokenizer = AutoTokenizer.from_pretrained(model_name)\n",
    "model = AutoModelForCausalLM.from_pretrained(model_name, torch_dtype=torch.float16, device_map=\"auto\")\n",
    "\n",
    "# Prepare the input\n",
    "prompt = \"Hello,What's the capital of France?\"\n",
    "inputs = tokenizer(prompt, return_tensors=\"pt\").to(model.device)\n",
    "\n",
    "# Generate the response\n",
    "with torch.no_grad():\n",
    "    outputs = model.generate(**inputs, max_new_tokens=100)\n",
    "\n",
    "# Decode and print the response\n",
    "response = tokenizer.decode(outputs[0], skip_special_tokens=True)\n",
    "print(response)\n",
    "\n",
    "# Function for chat-like interaction\n",
    "def generate_response(prompt):\n",
    "    inputs = tokenizer(prompt, return_tensors=\"pt\").to(model.device)\n",
    "    with torch.no_grad():\n",
    "        outputs = model.generate(**inputs, max_new_tokens=200)\n",
    "    return tokenizer.decode(outputs[0], skip_special_tokens=True)\n",
    "\n",
    "# Chat-like interaction\n",
    "messages = [\n",
    "    {\"role\": \"user\", \"content\": \"Who are you?\"},\n",
    "]\n",
    "\n",
    "chat_history = \"<|system|>\\nYou are a helpful AI assistant.\\n<|user|>\\nWho are you?\\n<|assistant|>\"\n",
    "response = generate_response(chat_history)\n",
    "print(response)"
   ]
  },
  {
   "cell_type": "code",
   "execution_count": null,
   "metadata": {},
   "outputs": [],
   "source": []
  },
  {
   "cell_type": "code",
   "execution_count": null,
   "metadata": {},
   "outputs": [],
   "source": []
  }
 ],
 "metadata": {
  "kernelspec": {
   "display_name": "base",
   "language": "python",
   "name": "python3"
  },
  "language_info": {
   "codemirror_mode": {
    "name": "ipython",
    "version": 3
   },
   "file_extension": ".py",
   "mimetype": "text/x-python",
   "name": "python",
   "nbconvert_exporter": "python",
   "pygments_lexer": "ipython3",
   "version": "3.11.7"
  }
 },
 "nbformat": 4,
 "nbformat_minor": 2
}
